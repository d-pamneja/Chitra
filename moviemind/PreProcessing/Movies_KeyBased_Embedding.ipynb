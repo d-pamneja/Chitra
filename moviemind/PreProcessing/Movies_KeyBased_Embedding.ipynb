{
 "cells": [
  {
   "cell_type": "markdown",
   "metadata": {},
   "source": [
    "# Importing the dependencies, Loading the Data and API keys"
   ]
  },
  {
   "cell_type": "code",
   "execution_count": 6,
   "metadata": {},
   "outputs": [],
   "source": [
    "import pandas as pd\n",
    "import os\n",
    "from dotenv import load_dotenv\n",
    "import sqlite3\n",
    "\n",
    "\n",
    "import chromadb\n",
    "from chromadb.config import Settings\n",
    "from langchain.embeddings import OpenAIEmbeddings "
   ]
  },
  {
   "cell_type": "code",
   "execution_count": 7,
   "metadata": {},
   "outputs": [],
   "source": [
    "load_dotenv()\n",
    "OPENAI_API_KEY = os.getenv(\"OPENAI_API_KEY\")"
   ]
  },
  {
   "cell_type": "code",
   "execution_count": 66,
   "metadata": {},
   "outputs": [
    {
     "data": {
      "text/html": [
       "<div>\n",
       "<style scoped>\n",
       "    .dataframe tbody tr th:only-of-type {\n",
       "        vertical-align: middle;\n",
       "    }\n",
       "\n",
       "    .dataframe tbody tr th {\n",
       "        vertical-align: top;\n",
       "    }\n",
       "\n",
       "    .dataframe thead th {\n",
       "        text-align: right;\n",
       "    }\n",
       "</style>\n",
       "<table border=\"1\" class=\"dataframe\">\n",
       "  <thead>\n",
       "    <tr style=\"text-align: right;\">\n",
       "      <th></th>\n",
       "      <th>id</th>\n",
       "      <th>title</th>\n",
       "      <th>keywords</th>\n",
       "      <th>review_summary</th>\n",
       "      <th>tags</th>\n",
       "      <th>embeddings</th>\n",
       "    </tr>\n",
       "  </thead>\n",
       "  <tbody>\n",
       "    <tr>\n",
       "      <th>0</th>\n",
       "      <td>283995</td>\n",
       "      <td>Guardians of the Galaxy Vol. 2</td>\n",
       "      <td>['demi god', 'alien creature', 'sarcasm', 'cra...</td>\n",
       "      <td>Guardians of the Galaxy Vol. 2 elicited a gene...</td>\n",
       "      <td>adventure action sci-fi chris pratt zoe saldañ...</td>\n",
       "      <td>[-0.010018928121777062, -0.042597577593544884,...</td>\n",
       "    </tr>\n",
       "    <tr>\n",
       "      <th>1</th>\n",
       "      <td>480530</td>\n",
       "      <td>Creed II</td>\n",
       "      <td>['baby', 'training montage', 'sequel', 'boxing...</td>\n",
       "      <td>Creed II elicits a mixed response from audienc...</td>\n",
       "      <td>drama michael b. jordan sylvester stallone tes...</td>\n",
       "      <td>[-0.012480250747134571, -0.02905849380429892, ...</td>\n",
       "    </tr>\n",
       "    <tr>\n",
       "      <th>2</th>\n",
       "      <td>299536</td>\n",
       "      <td>Avengers: Infinity War</td>\n",
       "      <td>['superhero', 'ensemble cast', 'marvel cinemat...</td>\n",
       "      <td>Avengers: Infinity War elicits a generally pos...</td>\n",
       "      <td>adventure action sci-fi robert downey jr. chri...</td>\n",
       "      <td>[-0.01140899767743463, -0.027857139652446076, ...</td>\n",
       "    </tr>\n",
       "    <tr>\n",
       "      <th>3</th>\n",
       "      <td>299534</td>\n",
       "      <td>Avengers: Endgame</td>\n",
       "      <td>['time travel', 'superhero', 'super villain', ...</td>\n",
       "      <td>Avengers: Endgame elicited a largely positive ...</td>\n",
       "      <td>adventure sci-fi action robert downey jr. chri...</td>\n",
       "      <td>[-0.00412223552630982, -0.031019326010432745, ...</td>\n",
       "    </tr>\n",
       "    <tr>\n",
       "      <th>4</th>\n",
       "      <td>337167</td>\n",
       "      <td>Fifty Shades Freed</td>\n",
       "      <td>['sex scene', 'wedding ceremony', 'bondage', '...</td>\n",
       "      <td>The audience reaction to Fifty Shades Freed is...</td>\n",
       "      <td>drama romance dakota johnson jamie dornan eric...</td>\n",
       "      <td>[-0.0075680177194708525, -0.024964091224630152...</td>\n",
       "    </tr>\n",
       "  </tbody>\n",
       "</table>\n",
       "</div>"
      ],
      "text/plain": [
       "       id                           title  \\\n",
       "0  283995  Guardians of the Galaxy Vol. 2   \n",
       "1  480530                        Creed II   \n",
       "2  299536          Avengers: Infinity War   \n",
       "3  299534               Avengers: Endgame   \n",
       "4  337167              Fifty Shades Freed   \n",
       "\n",
       "                                            keywords  \\\n",
       "0  ['demi god', 'alien creature', 'sarcasm', 'cra...   \n",
       "1  ['baby', 'training montage', 'sequel', 'boxing...   \n",
       "2  ['superhero', 'ensemble cast', 'marvel cinemat...   \n",
       "3  ['time travel', 'superhero', 'super villain', ...   \n",
       "4  ['sex scene', 'wedding ceremony', 'bondage', '...   \n",
       "\n",
       "                                      review_summary  \\\n",
       "0  Guardians of the Galaxy Vol. 2 elicited a gene...   \n",
       "1  Creed II elicits a mixed response from audienc...   \n",
       "2  Avengers: Infinity War elicits a generally pos...   \n",
       "3  Avengers: Endgame elicited a largely positive ...   \n",
       "4  The audience reaction to Fifty Shades Freed is...   \n",
       "\n",
       "                                                tags  \\\n",
       "0  adventure action sci-fi chris pratt zoe saldañ...   \n",
       "1  drama michael b. jordan sylvester stallone tes...   \n",
       "2  adventure action sci-fi robert downey jr. chri...   \n",
       "3  adventure sci-fi action robert downey jr. chri...   \n",
       "4  drama romance dakota johnson jamie dornan eric...   \n",
       "\n",
       "                                          embeddings  \n",
       "0  [-0.010018928121777062, -0.042597577593544884,...  \n",
       "1  [-0.012480250747134571, -0.02905849380429892, ...  \n",
       "2  [-0.01140899767743463, -0.027857139652446076, ...  \n",
       "3  [-0.00412223552630982, -0.031019326010432745, ...  \n",
       "4  [-0.0075680177194708525, -0.024964091224630152...  "
      ]
     },
     "execution_count": 66,
     "metadata": {},
     "output_type": "execute_result"
    }
   ],
   "source": [
    "database = \"../SQL_Database/Movies.db\"\n",
    "database_key_based = pd.read_sql_query(\"SELECT m.* FROM Movies_Key_Based AS m\", sqlite3.connect(database))\n",
    "database_key_based.head()"
   ]
  },
  {
   "cell_type": "markdown",
   "metadata": {},
   "source": [
    "# Creating Embeddings using OPENAI Embedding Model\n",
    "We will be using the OpenAI Embedding Model to create embeddings for the text data. The OpenAI Embedding Model is a transformer-based model that is trained on a large corpus of text data. The model is capable of generating high-quality embeddings for text data, which can be used for various natural language processing tasks."
   ]
  },
  {
   "cell_type": "code",
   "execution_count": 17,
   "metadata": {},
   "outputs": [],
   "source": [
    "embedding = OpenAIEmbeddings()"
   ]
  },
  {
   "cell_type": "code",
   "execution_count": 23,
   "metadata": {},
   "outputs": [],
   "source": [
    "def get_embeddings(text):\n",
    "    response = embedding.embed_query(text)\n",
    "    return response"
   ]
  },
  {
   "cell_type": "markdown",
   "metadata": {},
   "source": [
    "# ChromDB Client Setup and Storage"
   ]
  },
  {
   "cell_type": "code",
   "execution_count": 68,
   "metadata": {},
   "outputs": [],
   "source": [
    "storage_folder = \"../CHROMA_DATABASE\"\n",
    "\n",
    "Client = chromadb.PersistentClient(path = storage_folder)"
   ]
  },
  {
   "cell_type": "code",
   "execution_count": 70,
   "metadata": {},
   "outputs": [],
   "source": [
    "movie_collection = Client.create_collection(name='MOVIES')"
   ]
  },
  {
   "cell_type": "code",
   "execution_count": 71,
   "metadata": {},
   "outputs": [
    {
     "data": {
      "text/plain": [
       "<chromadb.api.models.Collection.Collection at 0x1219b3950>"
      ]
     },
     "execution_count": 71,
     "metadata": {},
     "output_type": "execute_result"
    }
   ],
   "source": [
    "movie_collection"
   ]
  },
  {
   "cell_type": "code",
   "execution_count": 72,
   "metadata": {},
   "outputs": [],
   "source": [
    "for index, row in database_key_based.iterrows():\n",
    "    movie_collection.add(\n",
    "        ids = str(row['id']),\n",
    "        embeddings = eval(row[\"embeddings\"]),\n",
    "        metadatas = {'title': row['title'], 'keywords' : row['keywords'], 'review_summary' : row['review_summary']}\n",
    "    )"
   ]
  },
  {
   "cell_type": "markdown",
   "metadata": {},
   "source": [
    "Let us now go ahead and create the function that will be query the chroma database for the most similar titles to a given title."
   ]
  },
  {
   "cell_type": "code",
   "execution_count": 50,
   "metadata": {},
   "outputs": [],
   "source": [
    "# Find similar movies based on the movie title from the Chroma database\n",
    "def find_similar_movies(movie_title, data, movie_collection, top_k=6):\n",
    "    try:\n",
    "        movie_row = data[data['title'] == movie_title]\n",
    "        \n",
    "        if movie_row.empty:\n",
    "            return f\"Movie title '{movie_title}' not found in the database.\"\n",
    "        \n",
    "\n",
    "        query_embedding = eval(movie_row.iloc[0]['embeddings'])\n",
    "        \n",
    "        results = movie_collection.query(\n",
    "            query_embeddings=[query_embedding],\n",
    "            n_results=top_k\n",
    "        )\n",
    "        \n",
    "        final_movies = []\n",
    "        for movie in results['metadatas'][0]:\n",
    "            final_movies.append(movie)\n",
    "            \n",
    "        return final_movies[1:]\n",
    "        \n",
    "\n",
    "    except Exception as e:\n",
    "        print(f\"Error occurred during request: {e}\")\n",
    "        return []"
   ]
  },
  {
   "cell_type": "markdown",
   "metadata": {},
   "source": [
    "# Prediction"
   ]
  },
  {
   "cell_type": "code",
   "execution_count": 51,
   "metadata": {},
   "outputs": [
    {
     "name": "stdout",
     "output_type": "stream",
     "text": [
      "{'keywords': \"['demi god', 'alien creature', 'sarcasm', 'crash landing', 'blue skin', 'green skin', 'good versus evil', 'sister sister relationship', 'father son reunion', 'father son fight', 'raccoon', 'marvel cinematic universe', 'mixtape', 'bipedal alien', 'patricide', 'superhero team', 'anti hero', 'estranged sister', 'final showdown', 'megalomaniac', 'evil god', 'mechanical hand', 'space fleet', 'tree like humanoid', 'celestial']\", 'reveiw_summary': \"Guardians of the Galaxy Vol. 2 elicited a generally positive response from audiences, with many praising its humor, action, and character development. While viewers found the film entertaining and visually impressive, some felt it lacked the freshness and originality of its predecessor. The movie's soundtrack was widely applauded, with reviewers highlighting its perfect blend of classic hits and emotional weight.  Several critiques focused on the villain's lack of depth and the movie's tendency to rely on over-the-top comedy,  suggesting a slight dip in quality compared to the first film. \\n\", 'title': 'Guardians of the Galaxy Vol. 2'}\n",
      "{'keywords': \"['multiverse', 'teenage superhero', 'wisecrack humor', 'posthumous cameo', 'miles morales character', 'spider ham character', 'crying in the shower', 'superhero', 'african american', 'father son relationship', 'interdimensional travel', 'parallel world', 'cemetery', 'stan lee cameo', 'spider bite', 'pig', 'superheroine', 'unlikely hero', 'reference to looney tunes', 'cartoon pig', 'anthropomorphic animal', 'cartoon violence', 'talking pig', 'superhero action', 'air jordan sneakers']\", 'reveiw_summary': '\"Spider-Man: Into the Spider-Verse\" has garnered a largely positive response from viewers, with widespread praise for its groundbreaking animation style, which many consider to be a game-changer for the genre. The film\\'s unique visual aesthetic, coupled with its vibrant soundtrack, is frequently described as a comic book brought to life, exceeding the expectations of even the most devoted fans. The story, while receiving mixed reactions, is generally lauded for its creativity and emotional resonance, particularly the exploration of Miles Morales\\' journey and the exploration of multiple Spider-Man iterations. However, some viewers find the plot to be predictable or feel the movie lacks focus in its latter half. Despite a few criticisms, the overwhelming sentiment suggests that \"Spider-Man: Into the Spider-Verse\" is a triumph of innovative storytelling and visual brilliance, solidifying its place as a standout film in the superhero genre. \\n', 'title': 'Spider-Man: Into the Spider-Verse'}\n",
      "{'keywords': \"['superhero', 'stan lee cameo', 'cat', 'marvel cinematic universe', 'nick fury character', '1990s', 'supernatural power', 'based on comic book', 'shared universe', 'female protagonist', 'superheroine', 'kree', 'skrull', 'alien race', 'amnesiac', 'chase', 'train', 'pager', 'refugee', 'autopsy', 'death of mentor', 'smurf costume', 'strong female lead', 'feminism', 'alien']\", 'reveiw_summary': \"Captain Marvel elicits a mixed response from viewers, with a noticeable split between positive and negative opinions.  Many praise the movie's action, humor, and the performance of Samuel L. Jackson as Nick Fury.  Brie Larson's portrayal of Carol Danvers also garners praise, with many defending her against perceived online negativity.  However, a significant portion of the audience finds Captain Marvel's overwhelming power and somewhat flat character development disappointing.  Some also feel the film lacks emotional depth, with criticisms directed at the pacing and execution of certain story points.  Despite these criticisms, a consensus emerges that Captain Marvel is a visually entertaining and competent entry in the Marvel Cinematic Universe, with many expressing frustration that the negative online discourse overshadows its positive aspects. \\n\", 'title': 'Captain Marvel'}\n",
      "{'keywords': \"['justice league', 'superhero team', 'superhero', 'dc extended universe', 'comicbook movie', 'ensemble cast', 'atlantis', 'batcave', 'gotham city', 'fictional city', 'green power ring', 'cyborg', 'wonder woman character', 'recruitment', 'based on comic book', 'amazon woman', 'amazon warrior', 'green blood', 'bat signal', 'superhuman speed', 'scantily clad female', 'amazon queen', 'resurrection', 'back from the dead', 'saving the world']\", 'reveiw_summary': \"Audience reaction to Justice League is largely mixed, with viewers divided over its merits. While many enjoyed the action sequences, the humor, and the chemistry between the Justice League members, many found the plot uninspired, the villain underwhelming, and the film overall lacking the depth and epic scope expected from a Justice League movie.  The film's rushed pacing and editing, heavily attributed to Joss Whedon's involvement, are widely criticized, particularly the awkward CGI removal of Henry Cavill's mustache and the overall tonal shift from Zack Snyder's original vision.  The film's shortcomings have led to a strong desire among many viewers for the release of Zack Snyder's original cut, which is believed to offer a more cohesive and satisfying experience. \\n\", 'title': 'Justice League'}\n",
      "{'keywords': \"['anti hero', 'based on comic book', 'sequel', 'superhero', 'breaking the fourth wall', 'colossus character', 'scene during end credits', 'showdown', 'chase', 'supernatural power', 'time travel', 'changing the future', 'taxi', 'lesbian', 'mutant', 'second part', 'wade wilson character', 'gunfight', 'killed by a propeller', 'cameo', 'torso cut in half', 'orphanage', 'new zealander', 'invisibility', 'teddy bear']\", 'reveiw_summary': 'Audience reaction to Deadpool 2 is largely positive, with many viewers finding it a worthy successor to the original. The film\\'s humor, action, and Ryan Reynolds\\' performance as Deadpool are consistently praised, with viewers citing specific laugh-out-loud moments and the clever use of pop culture references. While some found the plot lacking, others appreciated the introduction of new characters and the movie\\'s emotional depth.  However, a few reviewers expressed disappointment with the film\\'s excessive language, the \"Once Upon a Deadpool\" PG-13 cut, and what they perceived as inconsistent treatment of death and diversity.  \\n', 'title': 'Deadpool 2'}\n"
     ]
    }
   ],
   "source": [
    "movie = \"Black Panther\"\n",
    "pred1 = find_similar_movies(movie,database_key_based,movie_collection)\n",
    "\n",
    "if(type(pred1) == str):\n",
    "    print(\"Movie not found\")\n",
    "else:\n",
    "    for i in pred1:\n",
    "        print(i)\n"
   ]
  },
  {
   "cell_type": "code",
   "execution_count": 53,
   "metadata": {},
   "outputs": [
    {
     "name": "stdout",
     "output_type": "stream",
     "text": [
      "{'keywords': \"['death penalty', 'injustice', 'humiliation', 'intimidation', 'concealing the truth', 'racial bias', 'wrongful conviction of murder', 'based on true story', 'prison', 'execution', 'electric chair', 'race relations', 'husband wife relationship', 'mother son relationship', 'father son relationship', 'mother daughter relationship', 'father daughter relationship', 'telephone call', 'telephone', 'pay phone', 'mobile phone', 'typewriter', 'alabama', 'monroeville alabama', 'reference to harper lee']\", 'reveiw_summary': '\"Just Mercy\" elicits a strong emotional response from viewers, with most reviewers expressing a profound sense of sadness, anger, and disgust at the systemic racism and injustice depicted in the film. The true story of Walter McMillian and Bryan Stevenson\\'s fight for justice deeply moved many, while some also found the performances, particularly those of Michael B. Jordan and Jamie Foxx, to be exceptional. However, a few critics felt the film lacked originality and relied too heavily on predictable tropes found in other legal dramas, and some even criticized the film for its perceived inaccuracies in portraying real-life events. Overall, the audience consensus leans heavily towards a positive reaction, driven by the film\\'s powerful message and impactful performances, despite some minor reservations about its originality and fidelity to the source material. \\n', 'title': 'Just Mercy'}\n",
      "{'keywords': '[]', 'reveiw_summary': 'The audience response to \"Amateur\" is decidedly mixed, with a majority leaning towards a positive sentiment but tempered by specific criticisms.  Viewers generally appreciate the film\\'s exploration of the underbelly of youth basketball, particularly its depiction of the pressure, corruption, and ethical dilemmas faced by young athletes.  The acting, especially Michael Rainey Jr.\\'s portrayal of the lead, is often praised for its authenticity and relatability. However, the movie\\'s pacing and plot development are frequently cited as shortcomings.  Several reviewers found the ending abrupt and unsatisfying, while others felt the film lacked a clear and compelling narrative arc. Additionally, the story\\'s realism is questioned by some, who argue that certain plot points feel contrived and unrealistic. \\n', 'title': 'Amateur'}\n",
      "{'keywords': \"['mansfield ohio', 'prison', 'suspense', '2010s', 'murder', 'death', 'violence', 'brutality', 'mercilessness', 'kidnapping', 'hostage', 'held at gunpoint', 'rescue', 'escape', 'deception', 'double cross', 'blood', 'blood splatter', 'ambush', 'profanity', 'subtitled scene', 'bilingualism', 'analyst', 'ceo', 'father daughter relationship']\", 'reveiw_summary': \"The audience response to *Escape Plan: The Extractors* is overwhelmingly negative, with most reviewers expressing disappointment and frustration. The film is widely criticized for its weak plot, lack of logic, and uninspired action sequences. Many viewers felt the movie was a cash grab, lacking the quality and ingenuity of the original *Escape Plan*.  The acting received mixed reviews, with some praising Devon Sawa's performance while others found Sylvester Stallone's participation underwhelming. Several reviewers noted the film's reliance on Chinese production and casting, questioning the motivation behind this shift. Overall, the consensus is that *Escape Plan: The Extractors* fails to live up to the expectations set by its predecessor and falls short as a satisfying action film. \\n\", 'title': 'Escape Plan: The Extractors'}\n",
      "{'keywords': '[\\'bare chested male\\', \\'truck\\', \\'knocking\\', \\'leaving the country\\', \\'checkpoint\\', \\'farsi\\', \\'california\\', \\'iranian immigrant\\', \\'high school\\', \\'football player\\', \\'cheerleader\\', \\'new student\\', \\'multi lingual\\', \\'headphones\\', \\'tattoo\\', \\'bleating\\', \\'school bully\\', \\'bigotry\\', \\'graffiti\\', \\'basketball player\\', \\'hit in the face\\', \\'ethnic slur\\', \"principal\\'s office\", \\'beer\\', \\'waitressing\\']', 'reveiw_summary': 'Audience response to \"American Wrestler: The Wizard\" is largely positive, with viewers drawn to its heartwarming underdog story and the strong performances from the cast, especially George Kosturos as Ali. The film\\'s depiction of the Iranian hostage crisis and its impact on Ali\\'s experience as an immigrant in America is considered compelling and thought-provoking. However, some viewers found the film formulaic and criticized certain aspects of the script and direction, particularly the inclusion of cliché tropes and potentially unrealistic scenes. Despite these criticisms, the film\\'s overall message of resilience and the triumph of the human spirit resonated with many, leaving them feeling inspired and moved. \\n', 'title': 'American Wrestler: The Wizard'}\n",
      "{'keywords': \"['poker', 'lawyer', 'female protagonist', 'father daughter relationship', 'skiing', 'trial', 'gambling', 'court', 'playing cards', 'voice over narration', 'nonlinear timeline', 'playing poker', 'reference to the crucible', 'scoliosis', 'indictment', 'los angeles california', 'assault', 'moguls', 'autobiography', 'surgery', 'arrest', 'assistant', 'professor', 'arraignment', 'courtroom']\", 'reveiw_summary': \"Audience reaction to *Molly's Game* is generally positive, with viewers praising Jessica Chastain's performance as the titular character and Aaron Sorkin's sharp, witty dialogue. The film's true-story premise and its exploration of the high-stakes world of poker captivated many viewers. However, a significant portion of the audience found the film's extensive use of voice-over narration to be intrusive and distracting, detracting from the overall cinematic experience. Some also criticized the film's length and the somewhat contrived nature of the ending.  \\n\", 'title': \"Molly's Game\"}\n"
     ]
    }
   ],
   "source": [
    "movie = \"Creed II\"\n",
    "pred1 = find_similar_movies(movie,database_key_based,movie_collection)\n",
    "\n",
    "if(type(pred1) == str):\n",
    "    print(\"Movie not found\")\n",
    "else:\n",
    "    for i in pred1:\n",
    "        print(i)\n"
   ]
  },
  {
   "cell_type": "code",
   "execution_count": 54,
   "metadata": {},
   "outputs": [
    {
     "name": "stdout",
     "output_type": "stream",
     "text": [
      "{'keywords': \"['father daughter relationship', 'live action and animation', 'bear', 'pig', 'live action cgi hybrid', 'balloon', 'honey', 'piglet', 'storybook in opening shot', 'loyality', 'childhood', 'promise', 'childhood memory', 'rabbit', 'tiger', 'donkey', 'winnie the pooh', 'magical realism', 'title spoken by character', 'kangaroo', 'owl', 'memory', 'dog', 'two word title', 'younger version of character']\", 'reveiw_summary': '\"Christopher Robin\" elicits a mixed response from viewers, with a clear divide between those who find it a heartwarming and nostalgic return to the Hundred Acre Wood and those who find it overly sentimental or lacking in substance. The film\\'s most praised elements include its stunning visuals, particularly the CGI rendering of Winnie the Pooh and his friends, which effectively blends the familiar cartoon characters with a more realistic aesthetic. The performances, particularly Ewan McGregor\\'s nuanced portrayal of a jaded Christopher Robin and Jim Cummings\\' enduringly charming voice work as Pooh, are also widely appreciated. However, the film\\'s pacing and the somewhat predictable plot are common points of criticism, with some viewers finding the story to be slow, overly simplistic, and lacking in genuine emotional depth. While many acknowledge the film\\'s appeal for nostalgic adults and its heartwarming message about the importance of childhood wonder and family, others find it to be too saccharine or aimed at a specific demographic, failing to connect with a broader audience. \\n', 'title': 'Christopher Robin'}\n",
      "{'keywords': \"['flying carpet', 'monkey', 'tiger', 'parrot', 'princess', 'shapeshifting', 'hero', 'magical carpet', 'arabian nights', 'genie character', 'mistaken identity', 'thief', 'cave', 'carpet', 'transformation', 'remake of oscar winner', 'dungeon', 'desert', 'wilhelm scream', 'wish fulfillment', 'giant bird', 'aladdin character', 'remake', 'grand vizier', 'vizier']\", 'reveiw_summary': \"Audience reaction to Aladdin is largely positive, with viewers appreciating its visual spectacle, catchy music, and entertaining performances. While many acknowledge the film's faithfulness to the animated original, there is a general consensus that it lacks the magic and emotional depth of its predecessor.  Will Smith's portrayal of the Genie is widely praised for its humor and energy, although some feel it falls short of Robin Williams' iconic performance.  While the film's visual elements are generally commended, some critics find the pacing uneven and the overall story lacking in originality. \\n\", 'title': 'Aladdin'}\n",
      "{'keywords': \"['female protagonist', 'queen', 'villainess', 'fairy', 'kingdom', 'wings', 'fairy tale', 'magical creature', 'magical power', 'fictional kingdom', 'sleeping beauty character', 'maleficent character', 'princess', 'king', 'magic', 'borderline personality disorder', 'character name in title', 'sequel', 'prince', 'princess aurora character', 'black costume', 'black leather', 'disney live action remake of animated film', 'strong female character', 'escape']\", 'reveiw_summary': \"Audience reaction to Maleficent: Mistress of Evil is mixed, with praise for its visual spectacle and performances, but criticism for a predictable plot and some underdeveloped characters. The film's visual effects, costumes, and especially the acting of Angelina Jolie and Michelle Pfeiffer are highly lauded. Many viewers appreciated the darker tone and themes compared to the first film. However, several reviewers found the story predictable and felt the film lacked emotional depth. The handling of certain plot points, particularly the treatment of the villain and the overall lightness of the ending, were also met with disappointment from some viewers. \\n\", 'title': 'Maleficent: Mistress of Evil'}\n",
      "{'keywords': \"['malawi', 'famine', 'rain', 'windmill', 'irrigation', 'based on true story', 'farming', 'grain', 'school library', 'battery', 'bicycle', 'dog', 'chief', 'hunger', 'school expulsion', 'listening to a radio', 'book', 'father son relationship', 'mother son relationship', 'mother daughter relationship', 'death of a dog', 'death of a chief', 'grave for a dog', 'corn', 'irrigation system']\", 'reveiw_summary': 'The Boy Who Harnessed the Wind overwhelmingly garners positive sentiment from viewers, who are moved by its inspiring true story, powerful acting, and stunning cinematography.  Audiences praise the film for its portrayal of resilience and ingenuity in the face of adversity, particularly highlighting the performances of both Chiwetel Ejiofor and the young Maxwell Simba. While some find the pacing a bit slow, the overall consensus is that this is a must-see film that leaves a lasting impression, prompting reflection on privilege and the importance of education.  \\n', 'title': 'The Boy Who Harnessed the Wind'}\n",
      "{'keywords': \"['elephant', 'dumbo character', 'remake', 'oversized ear', 'florida', 'train', 'baby elephant', 'flying animal', '1910s', 'live action remake', 'one word title', 'circus train', 'circus animal', 'amputee', 'pregnant animal', 'feather', 'flying', 'fire', 'extinguishing a fire', 'rescue', 'boy', 'girl', 'clown', 'ringmaster', 'elephant feces']\", 'reveiw_summary': \"Dumbo elicits a mixed response from viewers, with praise for its visual effects, particularly the portrayal of Dumbo himself, and a heartwarming message against animal exploitation. Many viewers found the story to be enjoyable, but some felt it lacked depth and originality compared to the animated classic. The acting received mixed reviews, with praise for Danny DeVito and Eva Green, but criticism for the child actors and a perceived lack of depth in Colin Farrell's performance. While the film is lauded for its visual spectacle and heartfelt message, several critics found the plot to be overly convoluted and the overall tone somewhat dark and uneven. \\n\", 'title': 'Dumbo'}\n"
     ]
    }
   ],
   "source": [
    "movie = \"The Lion King\"\n",
    "pred1 = find_similar_movies(movie,database_key_based,movie_collection)\n",
    "\n",
    "if(type(pred1) == str):\n",
    "    print(\"Movie not found\")\n",
    "else:\n",
    "    for i in pred1:\n",
    "        print(i)\n"
   ]
  },
  {
   "cell_type": "code",
   "execution_count": 55,
   "metadata": {},
   "outputs": [
    {
     "name": "stdout",
     "output_type": "stream",
     "text": [
      "{'keywords': \"['tied up while barefoot', 'ex convict', 'undercover', 'maximum security prison', 'bound and gagged', 'police detective', 'shot in the arm', 'security guard', 'prison warden', 'prison gang', 'murder', 'kidnapping', 'held at gunpoint', 'betrayal', 'blood', 'mob boss', 'photograph', 'faked death', 'reverse footage', 'fake identity', 'surprise ending', 'tied feet', 'prison', 'revenge', 'shot in the leg']\", 'reveiw_summary': \"The Informer garners a mixed reaction from viewers. While many praise the film's tense atmosphere, gritty realism, and strong performances, particularly from Joel Kinnaman, several reviewers find the plot predictable and the pacing uneven. The film's intense and violent scenes, as well as the portrayal of prison life, are frequently cited as highlights, while some criticize the underdeveloped characters and the reliance on clichés. Overall, the audience finds The Informer to be an entertaining and engaging thriller, but one that falls short of achieving greatness due to its narrative shortcomings. \\n\", 'title': 'The Informer'}\n",
      "{'keywords': '[\\'bare chested male bondage\\', \\'strong female lead\\', \\'strong female character\\', \\'female police officer\\', \\'reference to nancy drew\\', \\'washroom attendant\\', \\'kidnapped son\\', \\'pitching machine\\', \\'gun in mouth\\', \"woman in a men\\'s room\", \\'tongue cut out\\', \\'shell casing\\', \\'gun held to back of head\\', \\'aerial camera shot\\', \\'child in jeopardy\\', \\'scene of the crime\\', \\'dea drug enforcement administration\\', \\'black police officer\\', \\'corrupt police officer\\', \\'tough police officer\\', \\'undercover police officer\\', \\'undercover male police officer\\', \\'cigarette\\', \\'body lands on a car\\', \\'knocked unconscious\\']', 'reveiw_summary': \"Audience reaction to Sleepless is largely negative, with viewers finding it a derivative and uninspired action thriller. While the film benefits from a competent cast, particularly Jamie Foxx, the overall consensus is that the plot is predictable, the action scenes are unoriginal, and the direction is often clumsy. Many reviewers point to the script's implausibilities and lack of originality, with several mentioning specific scenes and moments that they found particularly illogical or frustrating. Despite some entertaining action sequences, the film's lack of depth and its reliance on clichés ultimately lead to a sense of disappointment among the audience. \\n\", 'title': 'Sleepless'}\n",
      "{'keywords': '[\\'remake\\', \\'vigilante\\', \\'vigilantism\\', \\'paul kersey character\\', \\'dark hero\\', \\'death of wife\\', \\'home invasion\\', \\'woman in jeopardy\\', \\'urban decay\\', \\'finger gun\\', \"avenging wife\\'s death\", \\'attempted rape\\', \\'detective\\', \\'nightclub\\', \\'brother\\', \\'one against many\\', \\'self justice\\', \\'self defense\\', \\'murder investigation\\', \\'one man army\\', \\'vengeance\\', \\'walking at night\\', \\'taking out the trash\\', \\'french kiss\\', \\'street justice\\']', 'reveiw_summary': \"The audience reaction to *Death Wish* is mixed, with viewers appreciating its action-packed nature and the return of Bruce Willis to a leading role, but finding the plot derivative and the overall experience lacking in originality.  Several reviewers praise the film's pacing and the performances of Willis, Elisabeth Shue, and Vincent D'Onofrio, but many note a lack of emotional depth and a reliance on clichés. While some find the graphic violence satisfying, others criticize its excessive and uninspired nature.  Overall, the film is seen as a decent, albeit unremarkable, action thriller, with some viewers finding it entertaining while others feel it falls short of the classic vigilante films of the past. \\n\", 'title': 'Death Wish'}\n",
      "{'keywords': \"['heist', 'female nudity', 'widow', 'funeral', 'betrayal', 'theft', 'dog', 'murder', 'politics', 'baby', 'spa', 'bar', 'sex scene', 'driver', 'priest', 'restaurant', 'babysitter', 'grief', 'interrupted sex', 'woman on top sex', 'female topless nudity', 'based on tv series', 'politician', 'girl gang', 'crime boss']\", 'reveiw_summary': 'The audience\\'s sentiment toward \"Widows\" is mixed, with viewers recognizing its strong performances and stylish direction, but finding its plot inconsistent and its themes overly ambitious.  While many reviewers lauded the acting, especially from Viola Davis, Colin Farrell, and Daniel Kaluuya, many also felt the story was overstuffed and lacked cohesion, with several plot lines left undeveloped and the heist itself feeling anticlimactic.  The film\\'s exploration of social issues like race, gender, and power was often praised, but some viewers found it heavy-handed or even preachy, detracting from the overall narrative experience.  Ultimately, while \"Widows\" was appreciated for its ambition and technical prowess, it left many viewers feeling somewhat disappointed by its flaws. \\n', 'title': 'Widows'}\n",
      "{'keywords': \"['revenge', 'written by director', 'wager', 'attempted mugging', 'unloaded gun', 'handcuffed to a bed', 'confessional', 'voice changer', 'assassin', 'briefcase', 'laudanum', 'pay phone', 'shot in the chest', 'shot in the head', 'shot to death', 'video surveillance', 'disguise', 'identical twins', 'hit in the head', 'knocked unconscious', 'search for father', 'lobotomy', 'suspense', 'electronic music score', 'dutch angle']\", 'reveiw_summary': 'Audience reaction to \"Terminal\" is decidedly mixed, with viewers divided on its merits. While many acknowledge its stylish visuals and captivating cinematography, particularly the neon-drenched aesthetic, a significant portion of the audience finds the convoluted plot and underdeveloped characters to be major drawbacks. Critics often cite the film\\'s attempt to emulate Tarantino-esque twists and turns as a misstep, leading to a sense of confusion rather than intrigue. While Margot Robbie\\'s performance garners praise, several reviewers find her portrayal to be a caricature, reminiscent of her Harley Quinn persona.  The film\\'s attempts at humor also fall flat for many, further contributing to the overall sense of disappointment. \\n', 'title': 'Terminal'}\n"
     ]
    }
   ],
   "source": [
    "movie = \"Joker\"\n",
    "pred1 = find_similar_movies(movie,database_key_based,movie_collection)\n",
    "\n",
    "if(type(pred1) == str):\n",
    "    print(\"Movie not found\")\n",
    "else:\n",
    "    for i in pred1:\n",
    "        print(i)\n"
   ]
  },
  {
   "cell_type": "code",
   "execution_count": 56,
   "metadata": {},
   "outputs": [
    {
     "name": "stdout",
     "output_type": "stream",
     "text": [
      "{'keywords': \"['train', 'terrorism', 'paris france', 'american', 'soldier', 'airman', 'vacation', 'france', '2000s', 'school', 'mother son relationship', 'sacramento california', 'friendship', 'san antonio texas', 'portugal', 'terrorist', 'jammed gun', 'armed assailant', 'french legion of honor', 'based on true story', 'time in title', 'hour in title', 'flashback', 'nonlinear timeline', 'school sport']\", 'reveiw_summary': \"The 15:17 to Paris elicited a mixed reaction from viewers, with opinions sharply divided on the film's merits. Many praised the film's authenticity, appreciating Clint Eastwood's decision to cast the real-life heroes in their own story. However, widespread criticism targeted the film's pacing, deemed slow and lacking dramatic tension, and the acting, which was considered uneven, particularly from the non-professional actors.  Several reviewers felt the film lacked a compelling narrative, with too much time devoted to backstory and unnecessary scenes, ultimately undermining the impact of the actual terrorist attack. While the film received praise for its attempt at portraying heroism and the real-life bravery of the three men, a significant portion of the audience found the film underwhelming and lacking in cinematic appeal. \\n\", 'title': 'The 15:17 to Paris'}\n",
      "{'keywords': \"['operation thunderbolt', 'entebbe uganda', 'hostage situation', 'female terrorist', 'hijack', 'hijacking', 'airport', 'airplane', 'pilot', 'engineer', 'nun', 'dancing', 'commando', 'commando unit', 'hostage', 'torture', 'rescue', 'murder', 'shootout', 'dictator', 'telephone call', 'control tower', 'shot to death', 'protest', 'politics']\", 'reveiw_summary': \"Audience reaction to *7 Days in Entebbe* is overwhelmingly negative, with viewers largely criticizing the film's jarring and unnecessary inclusion of modern dance sequences, which they found distracting, pretentious, and detrimental to the film's tension and narrative flow. While some reviewers acknowledged the film's attempt to portray the story from multiple perspectives, they felt it failed to explore the Palestinian perspective sufficiently and lacked historical accuracy. The acting was generally well-received, particularly Rosamund Pike and Daniel Brühl's performances, but many felt the film's overall execution was underwhelming and did not live up to the potential of its true story. \\n\", 'title': '7 Days in Entebbe'}\n",
      "{'keywords': \"['kidnapping', 'based on true story', 'ransom', 'ransom demand', 'rome italy', 'prostitute', 'rich man', 'colosseum rome', 'severed ear', 'death', 'violence', 'italy', 'greed', 'miser', 'title spoken by character', 'grandfather grandson relationship', 'year 1973', 'kidnapped boy', 'kidnapped son', 'flashback', 'wealth', 'oil magnate', 'oil company', 'child custody', 'telephone call']\", 'reveiw_summary': '\"All the Money in the World\" elicits a mixed response from viewers. While the film is generally appreciated for its gripping true story, compelling performances, and impressive production value, several aspects draw criticism. Christopher Plummer\\'s portrayal of J. Paul Getty is widely lauded, with reviewers commending his ability to convey the character\\'s ruthlessness and coldness. However, many found the pacing to be slow and the overall narrative to lack the depth and emotional resonance they expected. While Michelle Williams\\' performance is acknowledged as strong, some reviewers felt the film failed to fully flesh out the supporting characters, particularly Mark Wahlberg\\'s. The movie\\'s exploration of the complexities of wealth and family dynamics is well-received by some, but others criticize its lack of clarity and the inclusion of scenes deemed overly dramatic or unrealistic. Overall, \"All the Money in the World\" is a decent film that offers a captivating story and solid performances, but it ultimately falls short of its potential due to pacing issues and uneven character development. \\n', 'title': 'All the Money in the World'}\n",
      "{'keywords': \"['suspense', 'tension', 'year 1980', '1980s', 'inspired by a true story', 'what happened to epilogue', 'scene during opening credits', 'corporal', 'major', 'colonel', 'military', 'soldier', 'british army', 'mercenary', 'special forces', 'british soldier', 'sas', 'commando', 'commando unit', 'commando raid', 'commando mission', 'mission', 'rescue mission', 'gunfight', 'shootout']\", 'reveiw_summary': 'Audience reaction to \"6 Days\" is generally positive, with viewers appreciating its realistic depiction of the 1980 Iranian embassy siege and the tense atmosphere it effectively conveys. The film\\'s focus on the planning and execution of the SAS rescue mission, as well as the internal struggles of the negotiator and the terrorists, resonated strongly with many.  However, a common criticism centered on the portrayal of journalist Kate Adie, with several reviewers finding Abbie Cornish\\'s performance unconvincing and her accent distracting.  While some found the film gripping and insightful, others felt it lacked emotional depth, particularly in its portrayal of the hostages. \\n', 'title': '6 Days'}\n",
      "{'keywords': \"['special forces', 'taliban', 'afghanistan', 'post 9 11', 'us military', 'behind enemy lines', 'us navy', 'based on true story', 'based on book', 'bravery', 'cia agent', 'reference to nickelback', 'reference to britney spears', 'reference to van halen', 'army ranger', 'ends with historical notes', 'what happened to epilogue', 'armored personnel carrier', 'captain', 'sand storm', 'helicopter', 'mission', 'american war in afghanistan', 'mountain range', 'parachute']\", 'reveiw_summary': \"Audience reaction to *12 Strong* is a mixed bag, with viewers appreciating its historical context and action sequences while also criticizing its simplistic portrayal of characters and events. While many praise the film's authenticity and the intensity of its battle scenes, several reviewers find the narrative predictable and the characters underdeveloped. Some also find the film's portrayal of Afghan forces and the conflict itself lacking depth and nuance. The film's focus on American heroism and its straightforward approach to the story resonates with some viewers, while others find it overly simplistic and lacking in the complexities of real-life warfare. \\n\", 'title': '12 Strong'}\n"
     ]
    }
   ],
   "source": [
    "movie = \"Hotel Mumbai\"\n",
    "pred1 = find_similar_movies(movie,database_key_based,movie_collection)\n",
    "\n",
    "if(type(pred1) == str):\n",
    "    print(\"Movie not found\")\n",
    "else:\n",
    "    for i in pred1:\n",
    "        print(i)\n"
   ]
  },
  {
   "cell_type": "markdown",
   "metadata": {},
   "source": [
    "With this, we have a recommendation system model ready, which takes the test input and gives the top 5 movies based on the cosine similarity between it's embeddings. We can use the chroma database to get the most similar titles to a given title."
   ]
  }
 ],
 "metadata": {
  "kernelspec": {
   "display_name": "Python 3",
   "language": "python",
   "name": "python3"
  },
  "language_info": {
   "codemirror_mode": {
    "name": "ipython",
    "version": 3
   },
   "file_extension": ".py",
   "mimetype": "text/x-python",
   "name": "python",
   "nbconvert_exporter": "python",
   "pygments_lexer": "ipython3",
   "version": "3.11.3"
  },
  "orig_nbformat": 4
 },
 "nbformat": 4,
 "nbformat_minor": 2
}
