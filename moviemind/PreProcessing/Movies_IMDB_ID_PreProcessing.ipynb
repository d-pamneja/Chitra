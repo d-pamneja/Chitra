{
 "cells": [
  {
   "attachments": {},
   "cell_type": "markdown",
   "metadata": {},
   "source": [
    "# Movies Reviews Dataset Preprocessing\n",
    "In this file, we will basically be fetching the IMDB Id's of the all our final names from the last file. Since we would want to fetch reviews of any given particular movie, we want an IMDB ID to do so.\n",
    "\n",
    "We will append it to our data as a new column for further use."
   ]
  },
  {
   "attachments": {},
   "cell_type": "markdown",
   "metadata": {},
   "source": [
    "## Importing the Dependencies"
   ]
  },
  {
   "cell_type": "code",
   "execution_count": 4,
   "metadata": {},
   "outputs": [],
   "source": [
    "import pandas as pd\n",
    "import requests\n",
    "from tmdbv3api import TMDb\n",
    "import time\n",
    "\n",
    "import os\n",
    "from dotenv import load_dotenv\n",
    "load_dotenv()\n",
    "\n",
    "TMDB_API_KEY = os.getenv(\"TMDB_API_KEY\")"
   ]
  },
  {
   "attachments": {},
   "cell_type": "markdown",
   "metadata": {},
   "source": [
    "## Loading the Data"
   ]
  },
  {
   "cell_type": "code",
   "execution_count": 54,
   "metadata": {},
   "outputs": [],
   "source": [
    "data = pd.read_csv('/Users/dhruv/Desktop/Machine_Learning/Projects/Movie_Recommender/Movies_Final.csv')"
   ]
  },
  {
   "cell_type": "code",
   "execution_count": 55,
   "metadata": {},
   "outputs": [
    {
     "data": {
      "text/plain": [
       "(26241, 3)"
      ]
     },
     "execution_count": 55,
     "metadata": {},
     "output_type": "execute_result"
    }
   ],
   "source": [
    "data.shape"
   ]
  },
  {
   "attachments": {},
   "cell_type": "markdown",
   "metadata": {},
   "source": [
    "## Function to fetch IMDB IDs using TMDB API"
   ]
  },
  {
   "cell_type": "code",
   "execution_count": 6,
   "metadata": {},
   "outputs": [],
   "source": [
    "# Setting up TMDB function with API Key\n",
    "tmdb = TMDb()\n",
    "tmdb.api_key = TMDB_API_KEY"
   ]
  },
  {
   "cell_type": "code",
   "execution_count": 57,
   "metadata": {},
   "outputs": [],
   "source": [
    "# Function to get IMDB ID\n",
    "def get_imdb_id(movie_title):\n",
    "  movie_id = int(data['id'][data['title'] == movie_title].values[0]) # User will input movie name, from which we can get it's TMDB ID\n",
    "  imdb_id = \"\"\n",
    "  response = requests.get('https://api.themoviedb.org/3/movie/{}?api_key={}&append_to_response=credits'.format(movie_id,tmdb.api_key))\n",
    "  # Sends a get request to TMDb API with the ID parsed through it and appends the credits\n",
    "  if response.status_code == 429:\n",
    "      print(\"Rate limit exceeded. Waiting...\")\n",
    "      time.sleep(2)\n",
    "      return get_imdb_id(movie_title)  # Recursively call the function after waiting\n",
    "  elif response.status_code != 200:\n",
    "      print(f\"Error for ID {movie_id}. Status Code: {response.status_code}\")\n",
    "      return None\n",
    "      \n",
    "  data_json = response.json()\n",
    "  if data_json['imdb_id']:\n",
    "    imdb_id = data_json['imdb_id']\n",
    "  \n",
    "  time.sleep(0.015)\n",
    "\n",
    "  return imdb_id"
   ]
  },
  {
   "attachments": {},
   "cell_type": "markdown",
   "metadata": {},
   "source": [
    "Now, let us go ahead and use get request to fetch Director Name and store them in our dataset."
   ]
  },
  {
   "cell_type": "code",
   "execution_count": 60,
   "metadata": {},
   "outputs": [],
   "source": [
    "data['IMDB_ID'] = data['title'].apply(get_imdb_id)"
   ]
  },
  {
   "cell_type": "code",
   "execution_count": 61,
   "metadata": {},
   "outputs": [
    {
     "data": {
      "text/html": [
       "<div>\n",
       "<style scoped>\n",
       "    .dataframe tbody tr th:only-of-type {\n",
       "        vertical-align: middle;\n",
       "    }\n",
       "\n",
       "    .dataframe tbody tr th {\n",
       "        vertical-align: top;\n",
       "    }\n",
       "\n",
       "    .dataframe thead th {\n",
       "        text-align: right;\n",
       "    }\n",
       "</style>\n",
       "<table border=\"1\" class=\"dataframe\">\n",
       "  <thead>\n",
       "    <tr style=\"text-align: right;\">\n",
       "      <th></th>\n",
       "      <th>id</th>\n",
       "      <th>title</th>\n",
       "      <th>tags</th>\n",
       "      <th>IMDB_ID</th>\n",
       "    </tr>\n",
       "  </thead>\n",
       "  <tbody>\n",
       "    <tr>\n",
       "      <th>0</th>\n",
       "      <td>615656</td>\n",
       "      <td>Meg 2: The Trench</td>\n",
       "      <td>action sci-fi horror jason statham wu jing shu...</td>\n",
       "      <td>tt9224104</td>\n",
       "    </tr>\n",
       "    <tr>\n",
       "      <th>1</th>\n",
       "      <td>758323</td>\n",
       "      <td>The Pope's Exorcist</td>\n",
       "      <td>horror mystery thriller russell crowe daniel z...</td>\n",
       "      <td>tt13375076</td>\n",
       "    </tr>\n",
       "    <tr>\n",
       "      <th>2</th>\n",
       "      <td>667538</td>\n",
       "      <td>Transformers: Rise of the Beasts</td>\n",
       "      <td>action adventure sci-fi anthony ramos dominiqu...</td>\n",
       "      <td>tt5090568</td>\n",
       "    </tr>\n",
       "    <tr>\n",
       "      <th>3</th>\n",
       "      <td>640146</td>\n",
       "      <td>Ant-Man and the Wasp: Quantumania</td>\n",
       "      <td>action adventure sci-fi paul rudd evangeline l...</td>\n",
       "      <td>tt10954600</td>\n",
       "    </tr>\n",
       "    <tr>\n",
       "      <th>4</th>\n",
       "      <td>677179</td>\n",
       "      <td>Creed III</td>\n",
       "      <td>drama action michael b. jordan tessa thompson ...</td>\n",
       "      <td>tt11145118</td>\n",
       "    </tr>\n",
       "  </tbody>\n",
       "</table>\n",
       "</div>"
      ],
      "text/plain": [
       "       id                              title  \\\n",
       "0  615656                  Meg 2: The Trench   \n",
       "1  758323                The Pope's Exorcist   \n",
       "2  667538   Transformers: Rise of the Beasts   \n",
       "3  640146  Ant-Man and the Wasp: Quantumania   \n",
       "4  677179                          Creed III   \n",
       "\n",
       "                                                tags     IMDB_ID  \n",
       "0  action sci-fi horror jason statham wu jing shu...   tt9224104  \n",
       "1  horror mystery thriller russell crowe daniel z...  tt13375076  \n",
       "2  action adventure sci-fi anthony ramos dominiqu...   tt5090568  \n",
       "3  action adventure sci-fi paul rudd evangeline l...  tt10954600  \n",
       "4  drama action michael b. jordan tessa thompson ...  tt11145118  "
      ]
     },
     "execution_count": 61,
     "metadata": {},
     "output_type": "execute_result"
    }
   ],
   "source": [
    "data.head(5)"
   ]
  },
  {
   "attachments": {},
   "cell_type": "markdown",
   "metadata": {},
   "source": [
    "Thus, we have the imdb id's as well. Let us go ahead and save our data."
   ]
  },
  {
   "cell_type": "code",
   "execution_count": 62,
   "metadata": {},
   "outputs": [],
   "source": [
    "data.to_csv(\"Movies_Final.csv\",index=False)"
   ]
  }
 ],
 "metadata": {
  "kernelspec": {
   "display_name": ".venv",
   "language": "python",
   "name": "python3"
  },
  "language_info": {
   "codemirror_mode": {
    "name": "ipython",
    "version": 3
   },
   "file_extension": ".py",
   "mimetype": "text/x-python",
   "name": "python",
   "nbconvert_exporter": "python",
   "pygments_lexer": "ipython3",
   "version": "3.11.3"
  },
  "orig_nbformat": 4
 },
 "nbformat": 4,
 "nbformat_minor": 2
}
