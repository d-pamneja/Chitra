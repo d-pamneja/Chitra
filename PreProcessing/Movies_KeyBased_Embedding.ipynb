{
 "cells": [
  {
   "cell_type": "markdown",
   "metadata": {},
   "source": [
    "# Importing the dependencies, Loading the Data and API keys"
   ]
  },
  {
   "cell_type": "code",
   "execution_count": 13,
   "metadata": {},
   "outputs": [],
   "source": [
    "import pandas as pd\n",
    "import os\n",
    "from dotenv import load_dotenv\n",
    "import sqlite3\n",
    "\n",
    "\n",
    "import chromadb\n",
    "from chromadb.config import Settings\n",
    "from langchain.embeddings import OpenAIEmbeddings "
   ]
  },
  {
   "cell_type": "code",
   "execution_count": 2,
   "metadata": {},
   "outputs": [],
   "source": [
    "load_dotenv()\n",
    "OPENAI_API_KEY = os.getenv(\"OPENAI_API_KEY\")"
   ]
  },
  {
   "cell_type": "code",
   "execution_count": 3,
   "metadata": {},
   "outputs": [
    {
     "data": {
      "text/html": [
       "<div>\n",
       "<style scoped>\n",
       "    .dataframe tbody tr th:only-of-type {\n",
       "        vertical-align: middle;\n",
       "    }\n",
       "\n",
       "    .dataframe tbody tr th {\n",
       "        vertical-align: top;\n",
       "    }\n",
       "\n",
       "    .dataframe thead th {\n",
       "        text-align: right;\n",
       "    }\n",
       "</style>\n",
       "<table border=\"1\" class=\"dataframe\">\n",
       "  <thead>\n",
       "    <tr style=\"text-align: right;\">\n",
       "      <th></th>\n",
       "      <th>id</th>\n",
       "      <th>title</th>\n",
       "      <th>tags</th>\n",
       "    </tr>\n",
       "  </thead>\n",
       "  <tbody>\n",
       "    <tr>\n",
       "      <th>0</th>\n",
       "      <td>283995</td>\n",
       "      <td>Guardians of the Galaxy Vol. 2</td>\n",
       "      <td>adventure action sci-fi chris pratt zoe saldañ...</td>\n",
       "    </tr>\n",
       "    <tr>\n",
       "      <th>1</th>\n",
       "      <td>480530</td>\n",
       "      <td>Creed II</td>\n",
       "      <td>drama michael b. jordan sylvester stallone tes...</td>\n",
       "    </tr>\n",
       "    <tr>\n",
       "      <th>2</th>\n",
       "      <td>299536</td>\n",
       "      <td>Avengers: Infinity War</td>\n",
       "      <td>adventure action sci-fi robert downey jr. chri...</td>\n",
       "    </tr>\n",
       "    <tr>\n",
       "      <th>3</th>\n",
       "      <td>299534</td>\n",
       "      <td>Avengers: Endgame</td>\n",
       "      <td>adventure sci-fi action robert downey jr. chri...</td>\n",
       "    </tr>\n",
       "    <tr>\n",
       "      <th>4</th>\n",
       "      <td>337167</td>\n",
       "      <td>Fifty Shades Freed</td>\n",
       "      <td>drama romance dakota johnson jamie dornan eric...</td>\n",
       "    </tr>\n",
       "  </tbody>\n",
       "</table>\n",
       "</div>"
      ],
      "text/plain": [
       "       id                           title  \\\n",
       "0  283995  Guardians of the Galaxy Vol. 2   \n",
       "1  480530                        Creed II   \n",
       "2  299536          Avengers: Infinity War   \n",
       "3  299534               Avengers: Endgame   \n",
       "4  337167              Fifty Shades Freed   \n",
       "\n",
       "                                                tags  \n",
       "0  adventure action sci-fi chris pratt zoe saldañ...  \n",
       "1  drama michael b. jordan sylvester stallone tes...  \n",
       "2  adventure action sci-fi robert downey jr. chri...  \n",
       "3  adventure sci-fi action robert downey jr. chri...  \n",
       "4  drama romance dakota johnson jamie dornan eric...  "
      ]
     },
     "execution_count": 3,
     "metadata": {},
     "output_type": "execute_result"
    }
   ],
   "source": [
    "data = pd.read_csv(\"../Data/Movies_Key_Based.csv\")\n",
    "data.head()"
   ]
  },
  {
   "cell_type": "markdown",
   "metadata": {},
   "source": [
    "# Creating Embeddings using OPENAI Embedding Model"
   ]
  },
  {
   "cell_type": "code",
   "execution_count": 17,
   "metadata": {},
   "outputs": [],
   "source": [
    "embedding = OpenAIEmbeddings()"
   ]
  },
  {
   "cell_type": "code",
   "execution_count": 23,
   "metadata": {},
   "outputs": [],
   "source": [
    "def get_embeddings(text):\n",
    "    response = embedding.embed_query(text)\n",
    "    return response"
   ]
  },
  {
   "cell_type": "code",
   "execution_count": 26,
   "metadata": {},
   "outputs": [
    {
     "data": {
      "text/html": [
       "<div>\n",
       "<style scoped>\n",
       "    .dataframe tbody tr th:only-of-type {\n",
       "        vertical-align: middle;\n",
       "    }\n",
       "\n",
       "    .dataframe tbody tr th {\n",
       "        vertical-align: top;\n",
       "    }\n",
       "\n",
       "    .dataframe thead th {\n",
       "        text-align: right;\n",
       "    }\n",
       "</style>\n",
       "<table border=\"1\" class=\"dataframe\">\n",
       "  <thead>\n",
       "    <tr style=\"text-align: right;\">\n",
       "      <th></th>\n",
       "      <th>id</th>\n",
       "      <th>title</th>\n",
       "      <th>tags</th>\n",
       "      <th>embeddings</th>\n",
       "    </tr>\n",
       "  </thead>\n",
       "  <tbody>\n",
       "    <tr>\n",
       "      <th>0</th>\n",
       "      <td>283995</td>\n",
       "      <td>Guardians of the Galaxy Vol. 2</td>\n",
       "      <td>adventure action sci-fi chris pratt zoe saldañ...</td>\n",
       "      <td>[-0.010018928121777062, -0.042597577593544884,...</td>\n",
       "    </tr>\n",
       "    <tr>\n",
       "      <th>1</th>\n",
       "      <td>480530</td>\n",
       "      <td>Creed II</td>\n",
       "      <td>drama michael b. jordan sylvester stallone tes...</td>\n",
       "      <td>[-0.012480250747134571, -0.02905849380429892, ...</td>\n",
       "    </tr>\n",
       "    <tr>\n",
       "      <th>2</th>\n",
       "      <td>299536</td>\n",
       "      <td>Avengers: Infinity War</td>\n",
       "      <td>adventure action sci-fi robert downey jr. chri...</td>\n",
       "      <td>[-0.01140899767743463, -0.027857139652446076, ...</td>\n",
       "    </tr>\n",
       "    <tr>\n",
       "      <th>3</th>\n",
       "      <td>299534</td>\n",
       "      <td>Avengers: Endgame</td>\n",
       "      <td>adventure sci-fi action robert downey jr. chri...</td>\n",
       "      <td>[-0.00412223552630982, -0.031019326010432745, ...</td>\n",
       "    </tr>\n",
       "    <tr>\n",
       "      <th>4</th>\n",
       "      <td>337167</td>\n",
       "      <td>Fifty Shades Freed</td>\n",
       "      <td>drama romance dakota johnson jamie dornan eric...</td>\n",
       "      <td>[-0.0075680177194708525, -0.024964091224630152...</td>\n",
       "    </tr>\n",
       "  </tbody>\n",
       "</table>\n",
       "</div>"
      ],
      "text/plain": [
       "       id                           title  \\\n",
       "0  283995  Guardians of the Galaxy Vol. 2   \n",
       "1  480530                        Creed II   \n",
       "2  299536          Avengers: Infinity War   \n",
       "3  299534               Avengers: Endgame   \n",
       "4  337167              Fifty Shades Freed   \n",
       "\n",
       "                                                tags  \\\n",
       "0  adventure action sci-fi chris pratt zoe saldañ...   \n",
       "1  drama michael b. jordan sylvester stallone tes...   \n",
       "2  adventure action sci-fi robert downey jr. chri...   \n",
       "3  adventure sci-fi action robert downey jr. chri...   \n",
       "4  drama romance dakota johnson jamie dornan eric...   \n",
       "\n",
       "                                          embeddings  \n",
       "0  [-0.010018928121777062, -0.042597577593544884,...  \n",
       "1  [-0.012480250747134571, -0.02905849380429892, ...  \n",
       "2  [-0.01140899767743463, -0.027857139652446076, ...  \n",
       "3  [-0.00412223552630982, -0.031019326010432745, ...  \n",
       "4  [-0.0075680177194708525, -0.024964091224630152...  "
      ]
     },
     "execution_count": 26,
     "metadata": {},
     "output_type": "execute_result"
    }
   ],
   "source": [
    "data['embeddings'] = data['tags'].apply(get_embeddings)\n",
    "data.head()"
   ]
  },
  {
   "cell_type": "code",
   "execution_count": 30,
   "metadata": {},
   "outputs": [],
   "source": [
    "database = \"../SQL_Database/Movies.db\"\n",
    "data = pd.read_sql_query(\"SELECT m.* FROM Movies_Key_Based AS m\", sqlite3.connect(database))"
   ]
  },
  {
   "cell_type": "markdown",
   "metadata": {},
   "source": [
    "# ChromDB Client Setup and Storage"
   ]
  },
  {
   "cell_type": "code",
   "execution_count": 25,
   "metadata": {},
   "outputs": [],
   "source": [
    "storage_folder = \"../Chroma_Database\"\n",
    "\n",
    "client = chromadb.PersistentClient(path = storage_folder)"
   ]
  },
  {
   "cell_type": "code",
   "execution_count": 10,
   "metadata": {},
   "outputs": [],
   "source": [
    "movie_collection = client.create_collection(name='Movies')"
   ]
  },
  {
   "cell_type": "code",
   "execution_count": 27,
   "metadata": {},
   "outputs": [],
   "source": [
    "movie_collection = client.get_collection(name='Movies')"
   ]
  },
  {
   "cell_type": "code",
   "execution_count": 15,
   "metadata": {},
   "outputs": [],
   "source": [
    "for index, row in data.iterrows():\n",
    "    movie_collection.add(\n",
    "        ids = str(row['id']),\n",
    "        embeddings = row['embeddings'],\n",
    "        metadatas = {'title': row['title'], 'tags': row['tags']}\n",
    "    )"
   ]
  },
  {
   "cell_type": "markdown",
   "metadata": {},
   "source": [
    "Let us now go ahead and create the function that will be query the chroma database for the most similar titles to a given title."
   ]
  },
  {
   "cell_type": "code",
   "execution_count": 50,
   "metadata": {},
   "outputs": [],
   "source": [
    "# Find similar movies based on the movie title from the Chroma database\n",
    "def find_similar_movies(movie_title, data, movie_collection, top_k=6):\n",
    "    try:\n",
    "        movie_row = data[data['title'] == movie_title]\n",
    "        \n",
    "        if movie_row.empty:\n",
    "            return f\"Movie title '{movie_title}' not found in the database.\"\n",
    "        \n",
    "\n",
    "        query_embedding = eval(movie_row.iloc[0]['embeddings'])\n",
    "        \n",
    "        results = movie_collection.query(\n",
    "            query_embeddings=[query_embedding],\n",
    "            n_results=top_k\n",
    "        )\n",
    "        \n",
    "        final_movies = {}\n",
    "        for movie in results['metadatas'][0]:\n",
    "            final_movies.append(movie['title'])\n",
    "            \n",
    "        return final_movies[1:]\n",
    "        \n",
    "\n",
    "    except Exception as e:\n",
    "        print(f\"Error occurred during request: {e}\")\n",
    "        return []"
   ]
  },
  {
   "cell_type": "markdown",
   "metadata": {},
   "source": [
    "# Prediction"
   ]
  },
  {
   "cell_type": "code",
   "execution_count": 51,
   "metadata": {},
   "outputs": [
    {
     "name": "stdout",
     "output_type": "stream",
     "text": [
      "Guardians of the Galaxy Vol. 2\n",
      "Spider-Man: Into the Spider-Verse\n",
      "Captain Marvel\n",
      "Justice League\n",
      "Deadpool 2\n"
     ]
    }
   ],
   "source": [
    "movie = \"Black Panther\"\n",
    "pred1 = find_similar_movies(movie,data,movie_collection)\n",
    "\n",
    "if(type(pred1) == str):\n",
    "    print(\"Movie not found\")\n",
    "else:\n",
    "    for i in pred1:\n",
    "        print(i)\n"
   ]
  },
  {
   "cell_type": "code",
   "execution_count": 37,
   "metadata": {},
   "outputs": [
    {
     "name": "stdout",
     "output_type": "stream",
     "text": [
      "Just Mercy\n",
      "Amateur\n",
      "Escape Plan: The Extractors\n",
      "American Wrestler: The Wizard\n",
      "Molly's Game\n"
     ]
    }
   ],
   "source": [
    "movie = \"Creed II\"\n",
    "pred1 = find_similar_movies(movie,data,movie_collection)\n",
    "\n",
    "if(type(pred1) == str):\n",
    "    print(\"Movie not found\")\n",
    "else:\n",
    "    for i in pred1:\n",
    "        print(i)\n"
   ]
  },
  {
   "cell_type": "code",
   "execution_count": 38,
   "metadata": {},
   "outputs": [
    {
     "name": "stdout",
     "output_type": "stream",
     "text": [
      "Christopher Robin\n",
      "Aladdin\n",
      "Maleficent: Mistress of Evil\n",
      "The Boy Who Harnessed the Wind\n",
      "Dumbo\n"
     ]
    }
   ],
   "source": [
    "movie = \"The Lion King\"\n",
    "pred1 = find_similar_movies(movie,data,movie_collection)\n",
    "\n",
    "if(type(pred1) == str):\n",
    "    print(\"Movie not found\")\n",
    "else:\n",
    "    for i in pred1:\n",
    "        print(i)\n"
   ]
  },
  {
   "cell_type": "code",
   "execution_count": 39,
   "metadata": {},
   "outputs": [
    {
     "name": "stdout",
     "output_type": "stream",
     "text": [
      "The Informer\n",
      "Sleepless\n",
      "Death Wish\n",
      "Widows\n",
      "Terminal\n"
     ]
    }
   ],
   "source": [
    "movie = \"Joker\"\n",
    "pred1 = find_similar_movies(movie,data,movie_collection)\n",
    "\n",
    "if(type(pred1) == str):\n",
    "    print(\"Movie not found\")\n",
    "else:\n",
    "    for i in pred1:\n",
    "        print(i)\n"
   ]
  },
  {
   "cell_type": "code",
   "execution_count": 40,
   "metadata": {},
   "outputs": [
    {
     "name": "stdout",
     "output_type": "stream",
     "text": [
      "The 15:17 to Paris\n",
      "7 Days in Entebbe\n",
      "All the Money in the World\n",
      "6 Days\n",
      "12 Strong\n"
     ]
    }
   ],
   "source": [
    "movie = \"Hotel Mumbai\"\n",
    "pred1 = find_similar_movies(movie,data,movie_collection)\n",
    "\n",
    "if(type(pred1) == str):\n",
    "    print(\"Movie not found\")\n",
    "else:\n",
    "    for i in pred1:\n",
    "        print(i)\n"
   ]
  },
  {
   "cell_type": "markdown",
   "metadata": {},
   "source": [
    "With this, we have a recommendation system model ready, which takes the test input and gives the top 5 movies based on the cosine similarity between it's embeddings. We can use the chroma database to get the most similar titles to a given title."
   ]
  }
 ],
 "metadata": {
  "kernelspec": {
   "display_name": "Python 3",
   "language": "python",
   "name": "python3"
  },
  "language_info": {
   "codemirror_mode": {
    "name": "ipython",
    "version": 3
   },
   "file_extension": ".py",
   "mimetype": "text/x-python",
   "name": "python",
   "nbconvert_exporter": "python",
   "pygments_lexer": "ipython3",
   "version": "3.11.3"
  },
  "orig_nbformat": 4
 },
 "nbformat": 4,
 "nbformat_minor": 2
}
