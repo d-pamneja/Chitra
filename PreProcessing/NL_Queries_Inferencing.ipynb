{
 "cells": [
  {
   "cell_type": "markdown",
   "metadata": {},
   "source": [
    "# Importing the dependencies"
   ]
  },
  {
   "cell_type": "code",
   "execution_count": 3,
   "metadata": {},
   "outputs": [],
   "source": [
    "import pandas as pd\n",
    "import chromadb\n",
    "import sqlite3\n",
    "\n",
    "import google.generativeai as genai\n",
    "\n",
    "import os\n",
    "from dotenv import load_dotenv\n",
    "\n",
    "\n",
    "load_dotenv()\n",
    "GOOGLE_API_KEY_MOVIE_RECOMMENDER = os.getenv(\"GOOGLE_API_KEY_MOVIE_RECOMMENDER\")\n",
    "genai.configure(api_key=GOOGLE_API_KEY_MOVIE_RECOMMENDER)"
   ]
  },
  {
   "cell_type": "markdown",
   "metadata": {},
   "source": [
    "# Chroma DB and Key Based Database Utilities"
   ]
  },
  {
   "cell_type": "code",
   "execution_count": 4,
   "metadata": {},
   "outputs": [],
   "source": [
    "keyword_data_path = \"../Chroma_Database\"\n",
    "client_key = chromadb.PersistentClient(path = keyword_data_path)\n",
    "movie_collection = client_key.get_collection(\"Movies\")"
   ]
  },
  {
   "cell_type": "code",
   "execution_count": 27,
   "metadata": {},
   "outputs": [],
   "source": [
    "# Find similar movies based on the movie title from the Chroma database\n",
    "def find_similar_movies(movie_title, data, movie_collection, top_k=6):\n",
    "    try:\n",
    "        movie_row = data[data['title'] == movie_title]\n",
    "        \n",
    "        if movie_row.empty:\n",
    "            return f\"Movie title '{movie_title}' not found in the database.\"\n",
    "        \n",
    "\n",
    "        query_embedding = eval(movie_row.iloc[0]['embeddings'])\n",
    "        \n",
    "        results = movie_collection.query(\n",
    "            query_embeddings=[query_embedding],\n",
    "            n_results=top_k\n",
    "        )\n",
    "        \n",
    "        final_movies = []\n",
    "        for movie in results['metadatas'][0]:\n",
    "            final_movies.append(movie)\n",
    "            \n",
    "        return final_movies[1:]\n",
    "        \n",
    "\n",
    "    except Exception as e:\n",
    "        print(f\"Error occurred during request: {e}\")\n",
    "        return []"
   ]
  },
  {
   "cell_type": "markdown",
   "metadata": {},
   "source": [
    "# SQL Database Inferencing Utilities"
   ]
  },
  {
   "cell_type": "code",
   "execution_count": 6,
   "metadata": {},
   "outputs": [],
   "source": [
    "database = \"../SQL_Database/Movies.db\"\n",
    "database_key_based = pd.read_sql_query(\"SELECT m.* FROM Movies_Key_Based AS m\", sqlite3.connect(database))\n",
    "database_query_based = pd.read_sql_query(\"SELECT m.* FROM Movies_Database AS m\", sqlite3.connect(database))"
   ]
  },
  {
   "cell_type": "code",
   "execution_count": 31,
   "metadata": {},
   "outputs": [],
   "source": [
    "def process_output(output):\n",
    "    try:\n",
    "        if((type(output))==str):\n",
    "            print(\"Please enter a valid SQL command\")\n",
    "        else:\n",
    "            for movie in output:\n",
    "                print(movie[0])\n",
    "    except Exception as e:\n",
    "        print(f\"Error occurred during request: {e}\")\n",
    "        \n",
    "\n",
    "\n",
    "def process_sql_query(sql_command,db):\n",
    "    try: \n",
    "        if(type(sql_command)==str):   \n",
    "            if(sql_command==\"SELECT m.* FROM Movies_Database AS m\"):\n",
    "                return process_output(database_query_based.values)\n",
    "            \n",
    "            con = sqlite3.connect(db)\n",
    "            cur = con.cursor()\n",
    "            \n",
    "            cur.execute(sql_command)\n",
    "            \n",
    "            rows = cur.fetchall()\n",
    "            list_of_lists = [[row[i] for i in range(len(row))] for row in rows]\n",
    "\n",
    "            con.close()\n",
    "            return process_output(list_of_lists)\n",
    "        elif(type(sql_command)==list):\n",
    "            for movie in sql_command:\n",
    "                print(movie[\"title\"]) # Trial\n",
    "        else:\n",
    "            return \"Please enter a valid SQL command\"\n",
    "    except Exception as e:\n",
    "        print(f\"Error occurred during request: {e}\")\n",
    "        return \"\""
   ]
  },
  {
   "cell_type": "markdown",
   "metadata": {},
   "source": [
    "# Prompt Generation and Knowledge Base Utilities"
   ]
  },
  {
   "cell_type": "code",
   "execution_count": 8,
   "metadata": {},
   "outputs": [],
   "source": [
    "prompts = [\n",
    "    \"\"\"\n",
    "    You are an expert at converting English text to SQL code. Here, the SQL Database you are getting is called Movies_Database and \n",
    "    has the following columns : \\n\\n\n",
    "    \n",
    "        1. id\n",
    "        2. IMDB_ID\n",
    "        3. title\n",
    "        4. release_year\n",
    "        5. genres\n",
    "        6. vote_average\n",
    "        7. cast\n",
    "        8. Director\n",
    "        9. keywords\n",
    "        10. reviews\n",
    "        11. review_sentiment\n",
    "        12. review_summary\n",
    "        13. poster_path\n",
    "        14. backdrop_path\n",
    "        \n",
    "        \n",
    "    \\n\\nNow, the above columns which I have mentioned are the columns of the table Movies_Database and are exactly the same as they are i.e. are case sensitive.\n",
    "    So, make sure you do not make any mistakes in the column names.\\n\\n\n",
    "    \n",
    "    \\n\\nNow, if the text query you get talks about recommending movies based on release_year, vote_average and/or Director you need to convert \n",
    "    it into a sql command as shown in the example below. Since these are strings/numeric values, you have to convert it as it is.\\n\\n\n",
    "    \n",
    "        \n",
    "    \\n\\nTake this for an example. If the text says, \"Recommend me some movies released in 2019\", the SQL command for that \n",
    "    would be something like this:\n",
    "    \n",
    "        SELECT m.title from Movies_Database AS m where m.release_year=2019 LIMIT 0,10;\n",
    "        \n",
    "    \\n\\nTake this for an example. If the text says, \"Recommend me all movies released in or after 2018\", the SQL command for that \n",
    "    would be something like this:\n",
    "    \n",
    "        SELECT m.title from Movies_Database AS m where m.release_year>=2018;\n",
    "        \n",
    "    \\n\\nTake this for an example. If the text says, \"Recommend me a movie released before 2019\", the SQL command for that \n",
    "    would be something like this:\n",
    "    \n",
    "        SELECT m.title from Movies_Database AS m where m.release_year < 2019 LIMIT 0,1;\n",
    "        \n",
    "    \\n\\nTake this for an example. If the text says, \"Recommend me 5 movies with voter average above 8\", the SQL command for that \n",
    "    would be something like this:\n",
    "    \n",
    "        SELECT m.title from Movies_Database AS m where m.vote_average > 8.00 LIMIT 0,5;\n",
    "        \n",
    "    \\n\\nTake this for an example. If the text says, \"Recommend me some movies with highly rated movies (greather than equal to 9)\", the SQL command for that \n",
    "    would be something like this:\n",
    "    \n",
    "        SELECT m.title from Movies_Database AS m where m.vote_average >= 9.00 LIMIT 0,10;\n",
    "        \n",
    "    \\n\\nTake this for an example. If the text says, \"Recommend me movies directed by James Gunn\", the SQL command for that \n",
    "    would be something like this:\n",
    "    \n",
    "        SELECT m.title from Movies_Database AS m where m.Director == 'James Gunn';\n",
    "        \n",
    "    \\n\\nTake this for an example. If the text says, \"Recommend me the latest movies by Christopher Nolan\", the SQL command for that \n",
    "    would be something like this:\n",
    "    \n",
    "        SELECT m.title from Movies_Database AS m where m.Director == 'Christopher Nolan' ORDER BY m.release_year DESC;\n",
    "        \n",
    "    \n",
    "    \\n\\n In the case of text queries which do not have any of the above mentioned columns, and ask \n",
    "    the query based on title, genres, cast and/or keywords, you just need to return all the rows as they are. These columns ARE NOT your expertise and you need to return the\n",
    "    thing which the query is asking for. You have to parse the user entered query and understand where the query is pointing to. If the query is pointing to the columns of\n",
    "    genres, cast and keywords, you need to just return which thing they are asking for. You do not need to convert them into SQL commands.\n",
    "    \n",
    "    \\n\\nTake this for an example. If the text says, \"Recommend me some movies like Guardians of the Galaxy Vol. 2\", the string output command for that is :\n",
    "    \n",
    "        TITLE = ['Guardians of the Galaxy Vol. 2']\n",
    "        \n",
    "    \\n\\nTake this for an example. If the text says, \"Recommend me some movies similar to Avengers: Infinity War\", the string output command for that is :\n",
    "    \n",
    "        TITLE = ['Avengers: Infinity War']\n",
    "    \n",
    "    \\n\\n Whatever genre is asked for in the user's intent, you need to map it to the below given list of genres in the database and return the movies based on that. Extract that which genre is the user's intent to search, and use the closest match from the below given list of genres to return the movies.\n",
    "    \n",
    "    genres_data = ['family','romance','action','war','comedy','sci-fi','mystery','animation','documentary','western','history','adventure','movie','fantasy','music','horror','crime','drama','tv','thriller']\n",
    "           \n",
    "    \\n\\nTake this for an example. If the text says, \"Recommend me some movies in the comedy genre\", the string output command for that is :\n",
    "    \n",
    "        GENRES = ['Comedy']\n",
    "        \n",
    "    \\n\\nTake this for an example. If the text says, \"Recommend me some movies in the action and adventure genre\", the string output command for that is :\n",
    "    \n",
    "        GENRES = ['Action', 'Adventure']\n",
    "        \n",
    "    \\n\\nTake this for an example. If the text says, \"I want to watch some nice action flick\", (here, you have to understand that this means the user's intent points towards the \"Action\" genre) the string output command for that is :\n",
    "    \n",
    "        GENRES = ['Action']\n",
    "        \n",
    "    \\n\\nTake this for an example. If the text says, \"I'm in the mood for a nice rom-com\", (here, you have to understand that this means the user's intent points towards the \"Romance\" and \"Comedy\" genre) the string output command for that is :\n",
    "    \n",
    "        GENRES = ['Comedy','Romance']\n",
    "        \n",
    "    \\n\\nTake this for an example. If the text says, \"How about a nice romantic movie?\", (here, you have to understand that this means the user's intent points towards the \"Romance\" and \"Comedy\" genre) the string output command for that is :\n",
    "    \n",
    "        GENRES = ['Romance']\n",
    "        \n",
    "    \\n\\nTake this for an example. If the text says, \"show me some science fiction movies\", (here, you have to understand that this means the user's intent points towards the \"Romance\" and \"Comedy\" genre) the string output command for that is :\n",
    "    \n",
    "        GENRES = ['Sci-Fi']\n",
    "        \n",
    "    \\n\\nTake this for an example. If the text says, \"Recommend me some movies with Tom Hanks in it\", the string output command for that is :\n",
    "    \n",
    "        CAST = ['Tom Hanks']\n",
    "        \n",
    "    \\n\\nTake this for an example. If the text says, \"Movies having Margot Robbie and Will Smith in it's cast\", the string output command for that is :\n",
    "    \n",
    "        CAST = ['Margot Robbie', 'Will Smith']\n",
    "        \n",
    "    \\n\\nTake this for an example. If the text says, \"Show some movies with Tom Hanks and Leonardo DiCaprio in them\", the string output command for that is :\n",
    "    \n",
    "        CAST = ['Tom Hanks', 'Leonardo DiCaprio']\n",
    "        \n",
    "    \\n\\nTake this for an example. If the text says, \"Recommend me some movies with superhero and aliens type\",(you have to understand that the user's intent here is a bit specific than abstract, so it lies more in keywords than genre) the string output command for that is :\n",
    "    \n",
    "        KEYWORDS = ['superhero', 'aliens']\n",
    "        \n",
    "    \\n\\nTake this for an example. If the text says, \"I am in the mood for seeing kind of movies with a female protaganist\",(you have to understand that the user's intent here is a bit specific than abstract, so it lies more in keywords than genre) the string output command for that is :\n",
    "    \n",
    "        KEYWORDS = ['female protaganist']\n",
    "        \n",
    "    \\n\\nTake this for an example. If the text says, \"show me some movies of angry protaganist kind\",(you have to understand that the user's intent here is a bit specific than abstract, so it lies more in keywords than genre) the string output command for that is :\n",
    "    \n",
    "        KEYWORDS = ['angry protaganist']\n",
    "        \n",
    "    \\n\\nTake this for an example. If the text says, \"How about some movies with battle in keywords?\",(you have to understand that the user's intent here is a bit specific than abstract, so it lies more in keywords than genre) the string output command for that is :\n",
    "    \n",
    "        KEYWORDS = ['battle']\n",
    "    \n",
    "      \n",
    "    \\n\\nAlso, make sure that the SQL code / stirng output does not have ``` in the beginning or the end of your answer, and it should'nt even have \"\" anywhere in the beginning or end of the answer.\n",
    "    Also, the word \"SQL\" or any other words should not be present in your output, apart from the relevant format. Even the symbol of skipping a line\n",
    "    like should not be present in your output. Just the commands or output as you have been shown above in the examples.\n",
    "    Just the commands or output as you have been shown above in the examples.\n",
    "    \"\"\",\n",
    "    \"\"\"\n",
    "    You are an expert in variable declaration and handling in Python. Here, you have been a variable and their values.\n",
    "    Whenever you are given a text query, you have to convert the values of a text query as a string.\n",
    "    Now, this string is suppose to later converted to a list of strings. You have to make sure that the string is in the correct format.\n",
    "    Below given are a few examples of how you can convert the text query into a string. You will generally be given a text query with \n",
    "    variable names from \"TITLE\",\"GENRES\",\"CAST\", \"KEYWORDS\" and you have to convert their values into a string of lists.\n",
    "    \n",
    "    \n",
    "    \\n\\nTake this for an example. If the text says, \"TITLE = ['Guardians of the Galaxy Vol. 2']\", the string output command for that is :\n",
    "        ['Guardians of the Galaxy Vol. 2']\n",
    "    \n",
    "    \\n\\nTake this for an example. If the text says, \"TITLE = ['Avengers : Infinity War']\", the string output command for that is :\n",
    "        ['Avengers : Infinity War']\n",
    "    \n",
    "    \\n\\nTake this for an example. If the text says, \"GENRES = ['Comedy']\", the string output command for that is :\n",
    "        ['Comedy']\n",
    "        \n",
    "    \\n\\nTake this for an example. If the text says, \"GENRES = ['Action', 'Adventure']\", the string output command for that is :\n",
    "        ['Action', 'Adventure']\n",
    "        \n",
    "    \\n\\nTake this for an example. If the text says, \"GENRES = ['Comedy','Romance']\", the string output command for that is :\n",
    "        ['Comedy','Romance']\n",
    "        \n",
    "    \\n\\nTake this for an example. If the text says, \"GENRES = ['Romance']\", the string output command for that is :\n",
    "        ['Romance']\n",
    "        \n",
    "    \\n\\nTake this for an example. If the text says, \"GENRES = ['Sci-Fi']\", the string output command for that is :\n",
    "        ['Sci-Fi']\n",
    "        \n",
    "    \\n\\nTake this for an example. If the text says, \"GENRES = ['Action']\", the string output command for that is :\n",
    "        ['Action']\n",
    "        \n",
    "    \\n\\nTake this for an example. If the text says, \"CAST = ['Tom Hanks']\", the string output command for that is :\n",
    "        ['Tom Hanks']\n",
    "        \n",
    "    \\n\\nTake this for an example. If the text says, \"CAST = ['Margot Robbie', 'Will Smith']\", the string output command for that is :\n",
    "        ['Margot Robbie', 'Will Smith']\n",
    "        \n",
    "    \\n\\nTake this for an example. If the text says, \"CAST = ['Tom Hanks', 'Leonardo DiCaprio']\", the string output command for that is :\n",
    "        ['Tom Hanks', 'Leonardo DiCaprio']\n",
    "        \n",
    "    \\n\\nTake this for an example. If the text says, \"KEYWORDS = ['superhero', 'aliens']\", the string output command for that is :\n",
    "        ['superhero', 'aliens']\n",
    "        \n",
    "    \\n\\nTake this for an example. If the text says, \"KEYWORDS = ['female protaganist']\", the string output command for that is :\n",
    "        ['female protaganist']\n",
    "        \n",
    "    \\n\\nTake this for an example. If the text says, \"KEYWORDS = ['angry protaganist']\", the string output command for that is :\n",
    "        ['angry protaganist']\n",
    "        \n",
    "    \\n\\nTake this for an example. If the text says, \"KEYWORDS = ['battle']\", the string output command for that is :\n",
    "        ['battle']\n",
    "        \n",
    "    \\n\\nRemember, the output should be a string and not a list. The list is just for your understanding. The output should be a string, which will be \n",
    "    converted to a list later on using \"eval()\" in Python, so the output should NOT have  ``` OR python or any other extra symbols in it's output.\n",
    "    MAKE SURE IT IS A STRING OUTPUT ONLY, AS YOUR RESPONSE WILL BE WORKED ON LATER ON PYTHON FUNCTIONS.\n",
    "    Also, make sure that the string output does not have ``` in the beginning or the end of your answer. Also, the word \"STRING\" or any\n",
    "    other words should not be present in your output. Just the commands or output as you have been shown above in the examples.\n",
    "    \"\"\"\n",
    "]"
   ]
  },
  {
   "cell_type": "markdown",
   "metadata": {},
   "source": [
    "Now, to set the context for the function to differentiate between the intent of the query, we will set up some knowledge bases for the function to refer to."
   ]
  },
  {
   "cell_type": "code",
   "execution_count": 9,
   "metadata": {},
   "outputs": [],
   "source": [
    "query_based_keywords = ['genre', 'genres', 'cast', 'actor', 'actress', 'keyword','in it','in them','type','kind']\n",
    "title_based_keywords = [\"title\",\"similar\",\"like\"]"
   ]
  },
  {
   "cell_type": "markdown",
   "metadata": {},
   "source": [
    "# Query Inferencing using Google Gemini API"
   ]
  },
  {
   "cell_type": "code",
   "execution_count": 10,
   "metadata": {},
   "outputs": [],
   "source": [
    "def subArray(arr1,arr2):\n",
    "    # TC : O(arr1.length + arr2.length), SC : O(arr2.length)\n",
    "    mp = map(str.lower,arr2)\n",
    "    \n",
    "    for i in arr1:\n",
    "        if(i.lower() not in mp):\n",
    "            return False\n",
    "        \n",
    "    return True\n",
    "\n",
    "\n",
    "def get_gemini_response(question,prompts):\n",
    "    try:\n",
    "        model = genai.GenerativeModel('gemini-1.5-flash-latest')\n",
    "        safe = [\n",
    "            {\n",
    "                \"category\": \"HARM_CATEGORY_DANGEROUS\",\n",
    "                \"threshold\": \"BLOCK_NONE\",\n",
    "            },\n",
    "            {\n",
    "                \"category\": \"HARM_CATEGORY_HARASSMENT\",\n",
    "                \"threshold\": \"BLOCK_NONE\",\n",
    "            },\n",
    "            {\n",
    "                \"category\": \"HARM_CATEGORY_HATE_SPEECH\",\n",
    "                \"threshold\": \"BLOCK_NONE\",\n",
    "            },\n",
    "            {\n",
    "                \"category\": \"HARM_CATEGORY_SEXUALLY_EXPLICIT\",\n",
    "                \"threshold\": \"BLOCK_NONE\",\n",
    "            },\n",
    "            {\n",
    "                \"category\": \"HARM_CATEGORY_DANGEROUS_CONTENT\",\n",
    "                \"threshold\": \"BLOCK_NONE\",\n",
    "            },\n",
    "        ]\n",
    "        \n",
    "        response_level1 = model.generate_content([prompts[0],question],safety_settings = safe)\n",
    "        \n",
    "        if(\"SELECT\" in response_level1.text):\n",
    "            return response_level1.text.replace('\\n', '').replace(';', '')\n",
    "        \n",
    "        all_movies = database_query_based.values\n",
    "        \n",
    "        for query_keyword in query_based_keywords:\n",
    "            if(query_keyword in question.lower()):\n",
    "                if(query_keyword == \"genres\" or query_keyword.lower() == \"genre\"):\n",
    "                    response_level2 = model.generate_content([prompts[1],response_level1.text],safety_settings = safe)\n",
    "                    query_genres = [genre.lower() for genre in eval(response_level2.text)]\n",
    "                    \n",
    "                    final_movie_titles = []\n",
    "                    for movie in all_movies:\n",
    "                        current_movie_genre = [genre.lower() for genre in eval(movie[4])]\n",
    "                        if(subArray(query_genres,current_movie_genre)==True):\n",
    "                            final_movie_titles.append(movie[2])\n",
    "                        \n",
    "                    return final_movie_titles[:10]\n",
    "                \n",
    "                elif(query_keyword.lower() == \"cast\" or query_keyword.lower() == \"actor\" or query_keyword.lower() == \"actress\" or query_keyword.lower() == \"in it\" or query_keyword.lower() == \"in them\"):\n",
    "                    response_level2 = model.generate_content([prompts[1],response_level1.text],safety_settings = safe)\n",
    "                    query_cast = [cast.lower() for cast in  eval(response_level2.text)]\n",
    "                    \n",
    "                    final_movie_titles = []\n",
    "                    for movie in all_movies:\n",
    "                        current_movie_cast = [cast.lower() for cast in eval(movie[6])]\n",
    "                        if(subArray(query_cast,current_movie_cast)==True):\n",
    "                            final_movie_titles.append(movie[2])\n",
    "                        \n",
    "                    return final_movie_titles[:10]\n",
    "                \n",
    "                elif(query_keyword.lower() == \"keyword\" or query_keyword.lower() == \"type\" or query_keyword.lower() == \"kind\"):\n",
    "                    response_level2 = model.generate_content([prompts[1],response_level1.text],safety_settings = safe)\n",
    "                    query_keywords = [keyword.lower() for keyword in eval(response_level2.text)]\n",
    "                    \n",
    "                    final_movie_titles = []\n",
    "                    for movie in all_movies:\n",
    "                        current_movie_keywords = [keyword.lower() for keyword in eval(movie[8])]\n",
    "                        if(subArray(query_keywords,current_movie_keywords)==True):\n",
    "                            final_movie_titles.append(movie[2])\n",
    "                        \n",
    "                    return final_movie_titles[:10]\n",
    "                \n",
    "        \n",
    "        for query_keyword in title_based_keywords:\n",
    "            if(query_keyword.lower() in question.lower()):\n",
    "                response_level2 = model.generate_content([prompts[1],response_level1.text],safety_settings = safe)\n",
    "                query_title = eval(response_level2.text)[0]\n",
    "                \n",
    "                return find_similar_movies(query_title,database_key_based,movie_collection,6)    \n",
    "            \n",
    "    except Exception as e:\n",
    "        print(f\"Error occurred during request: {e}\")\n",
    "        return \"\"\n",
    "            "
   ]
  },
  {
   "cell_type": "markdown",
   "metadata": {},
   "source": [
    "# Testing Sample Queries"
   ]
  },
  {
   "cell_type": "code",
   "execution_count": 12,
   "metadata": {},
   "outputs": [
    {
     "name": "stdout",
     "output_type": "stream",
     "text": [
      "Toy Story 4\n",
      "The Circle\n",
      "The Post\n",
      "A Beautiful Day in the Neighborhood\n",
      "Spielberg\n"
     ]
    }
   ],
   "source": [
    "question = \"Recommend me some movies with Tom Hanks in it\"\n",
    "response = get_gemini_response(question,prompts)\n",
    "process_sql_query(response, database)"
   ]
  },
  {
   "cell_type": "code",
   "execution_count": 13,
   "metadata": {},
   "outputs": [
    {
     "name": "stdout",
     "output_type": "stream",
     "text": [
      "Coco\n",
      "Fast & Furious Presents: Hobbs & Shaw\n",
      "Frozen II\n",
      "Cars 3\n",
      "Thor: Ragnarok\n",
      "Shazam!\n",
      "Murder Mystery\n",
      "Deadpool 2\n",
      "Kingsman: The Golden Circle\n",
      "Toy Story 4\n"
     ]
    }
   ],
   "source": [
    "question = \"Recommend me some movies in the comedy genre\"\n",
    "response = get_gemini_response(question,prompts)\n",
    "process_sql_query(response,database)"
   ]
  },
  {
   "cell_type": "code",
   "execution_count": 14,
   "metadata": {},
   "outputs": [
    {
     "name": "stdout",
     "output_type": "stream",
     "text": [
      "Coco\n",
      "Deadpool 2\n",
      "Ralph Breaks the Internet\n",
      "Despicable Me 3\n",
      "The Angry Birds Movie 2\n",
      "The Christmas Chronicles\n",
      "Missing Link\n",
      "Animal Crackers\n",
      "Sharknado 5: Global Swarming\n",
      "Playmobil: The Movie\n"
     ]
    }
   ],
   "source": [
    "question = \"Recommend me some movies in the comedy and adventure genre\"\n",
    "response = get_gemini_response(question,prompts)\n",
    "process_sql_query(response,database)"
   ]
  },
  {
   "cell_type": "code",
   "execution_count": 15,
   "metadata": {},
   "outputs": [
    {
     "name": "stdout",
     "output_type": "stream",
     "text": [
      "Avengers: Infinity War\n",
      "Avengers: Endgame\n",
      "Spider-Man: Homecoming\n",
      "Spider-Man: Into the Spider-Verse\n",
      "Thor: Ragnarok\n",
      "Spider-Man: Far From Home\n",
      "Shazam!\n",
      "Deadpool 2\n",
      "Aquaman\n",
      "Justice League\n"
     ]
    }
   ],
   "source": [
    "question = \"Recommend me some movies of superhero type\"\n",
    "response = get_gemini_response(question,prompts)\n",
    "process_sql_query(response,database)"
   ]
  },
  {
   "cell_type": "code",
   "execution_count": 16,
   "metadata": {},
   "outputs": [
    {
     "name": "stdout",
     "output_type": "stream",
     "text": [
      "Frozen II\n",
      "Maleficent: Mistress of Evil\n",
      "Captain Marvel\n",
      "Beauty and the Beast\n",
      "Alita: Battle Angel\n",
      "Terminator: Dark Fate\n",
      "Ready or Not\n",
      "Tomb Raider\n",
      "Booksmart\n",
      "Midsommar\n"
     ]
    }
   ],
   "source": [
    "question = \"Recommend me some movies having female protagonist as keyword\" \n",
    "response = get_gemini_response(question,prompts)\n",
    "process_sql_query(response,database)"
   ]
  },
  {
   "cell_type": "code",
   "execution_count": 17,
   "metadata": {},
   "outputs": [
    {
     "name": "stdout",
     "output_type": "stream",
     "text": [
      "Avengers: Infinity War\n",
      "Spider-Man: Into the Spider-Verse\n",
      "Wonder Woman\n",
      "Incredibles 2\n",
      "Captain Marvel\n"
     ]
    }
   ],
   "source": [
    "question = \"Give me some movies of superheroine type\"\n",
    "response = get_gemini_response(question,prompts)\n",
    "process_sql_query(response,database)"
   ]
  },
  {
   "cell_type": "code",
   "execution_count": 18,
   "metadata": {},
   "outputs": [
    {
     "name": "stdout",
     "output_type": "stream",
     "text": [
      "Avengers: Infinity War\n",
      "Avengers: Endgame\n",
      "Coco\n",
      "Spider-Man: Into the Spider-Verse\n",
      "Joker\n",
      "Five Feet Apart\n",
      "Call Me by Your Name\n",
      "Ford v Ferrari\n",
      "Green Book\n",
      "Jojo Rabbit\n"
     ]
    }
   ],
   "source": [
    "question = \"Show me some movies having voting average above 8\"\n",
    "response = get_gemini_response(question,prompts)\n",
    "process_sql_query(response,database)"
   ]
  },
  {
   "cell_type": "code",
   "execution_count": 19,
   "metadata": {},
   "outputs": [
    {
     "name": "stdout",
     "output_type": "stream",
     "text": [
      "The Second Coming of Christ\n",
      "The Open House\n",
      "The Con Is On\n",
      "Holmes & Watson\n",
      "Occupation\n",
      "Beyond White Space\n",
      "Looking Glass\n",
      "Edge of Fear\n",
      "Siberia\n",
      "Air Strike\n"
     ]
    }
   ],
   "source": [
    "question = \"I wanna see some movies with lowest voting average from the year 2018\"\n",
    "response = get_gemini_response(question,prompts)\n",
    "process_sql_query(response,database)"
   ]
  },
  {
   "cell_type": "code",
   "execution_count": 20,
   "metadata": {},
   "outputs": [
    {
     "name": "stdout",
     "output_type": "stream",
     "text": [
      "Spider-Man: Into the Spider-Verse\n",
      "Five Feet Apart\n",
      "Klaus\n",
      "Taylor Swift: Reputation Stadium Tour\n",
      "Avengers: Endgame\n"
     ]
    }
   ],
   "source": [
    "question = \"Show me top 5 movies based on voting average released post 2017\"\n",
    "response = get_gemini_response(question,prompts)\n",
    "process_sql_query(response,database)"
   ]
  },
  {
   "cell_type": "code",
   "execution_count": 32,
   "metadata": {},
   "outputs": [
    {
     "name": "stdout",
     "output_type": "stream",
     "text": [
      "Avengers: Infinity War\n",
      "Spider-Man: Homecoming\n",
      "Guardians of the Galaxy Vol. 2\n",
      "Thor: Ragnarok\n",
      "Ant-Man and the Wasp\n"
     ]
    }
   ],
   "source": [
    "question = \"Can you recommend me similar movies similar to Avengers: Endgame?\"\n",
    "response = get_gemini_response(question,prompts)\n",
    "process_sql_query(response,database)"
   ]
  },
  {
   "cell_type": "code",
   "execution_count": 33,
   "metadata": {},
   "outputs": [
    {
     "name": "stdout",
     "output_type": "stream",
     "text": [
      "Venom\n",
      "Black Panther\n",
      "Guardians of the Galaxy Vol. 2\n",
      "Spider-Man: Into the Spider-Verse\n",
      "Justice League\n"
     ]
    }
   ],
   "source": [
    "question = \"Show me some movies like Captain Marvel\"\n",
    "response = get_gemini_response(question,prompts)\n",
    "process_sql_query(response,database)"
   ]
  },
  {
   "cell_type": "code",
   "execution_count": 34,
   "metadata": {},
   "outputs": [
    {
     "name": "stdout",
     "output_type": "stream",
     "text": [
      "Life\n",
      "High Life\n",
      "Blade Runner 2049\n",
      "Venom\n",
      "Valerian and the City of a Thousand Planets\n"
     ]
    }
   ],
   "source": [
    "question = \"I really liked the movie with the title Alien: Covenant, can you give me something on similar lines?\"\n",
    "response = get_gemini_response(question,prompts)\n",
    "process_sql_query(response,database)"
   ]
  },
  {
   "cell_type": "markdown",
   "metadata": {},
   "source": [
    "With this, we now have integrated the Google Gemini API to infer the intent of the query and convert it into tangible SQL queries and/or chroma DB queries. These can of course be further processed to get the desired results, as well as prompt improvements are highly encouraged for better results."
   ]
  }
 ],
 "metadata": {
  "kernelspec": {
   "display_name": "Python 3",
   "language": "python",
   "name": "python3"
  },
  "language_info": {
   "codemirror_mode": {
    "name": "ipython",
    "version": 3
   },
   "file_extension": ".py",
   "mimetype": "text/x-python",
   "name": "python",
   "nbconvert_exporter": "python",
   "pygments_lexer": "ipython3",
   "version": "3.11.3"
  },
  "orig_nbformat": 4
 },
 "nbformat": 4,
 "nbformat_minor": 2
}
